{
 "cells": [
  {
   "cell_type": "code",
   "execution_count": 1,
   "id": "d4eff1c7-642d-4720-bbc1-f0051c226bd9",
   "metadata": {},
   "outputs": [],
   "source": [
    "#Challenges Class 3\n",
    "\n",
    "dat <- sample(15)"
   ]
  },
  {
   "cell_type": "code",
   "execution_count": 2,
   "id": "98b7e89d-d748-4811-ba6c-65976902f011",
   "metadata": {},
   "outputs": [
    {
     "data": {
      "text/html": [
       "<style>\n",
       ".list-inline {list-style: none; margin:0; padding: 0}\n",
       ".list-inline>li {display: inline-block}\n",
       ".list-inline>li:not(:last-child)::after {content: \"\\00b7\"; padding: 0 .5ex}\n",
       "</style>\n",
       "<ol class=list-inline><li>5</li><li>9</li><li>11</li><li>2</li><li>15</li><li>6</li><li>10</li><li>12</li><li>3</li><li>13</li><li>1</li><li>4</li><li>14</li><li>8</li><li>7</li></ol>\n"
      ],
      "text/latex": [
       "\\begin{enumerate*}\n",
       "\\item 5\n",
       "\\item 9\n",
       "\\item 11\n",
       "\\item 2\n",
       "\\item 15\n",
       "\\item 6\n",
       "\\item 10\n",
       "\\item 12\n",
       "\\item 3\n",
       "\\item 13\n",
       "\\item 1\n",
       "\\item 4\n",
       "\\item 14\n",
       "\\item 8\n",
       "\\item 7\n",
       "\\end{enumerate*}\n"
      ],
      "text/markdown": [
       "1. 5\n",
       "2. 9\n",
       "3. 11\n",
       "4. 2\n",
       "5. 15\n",
       "6. 6\n",
       "7. 10\n",
       "8. 12\n",
       "9. 3\n",
       "10. 13\n",
       "11. 1\n",
       "12. 4\n",
       "13. 14\n",
       "14. 8\n",
       "15. 7\n",
       "\n",
       "\n"
      ],
      "text/plain": [
       " [1]  5  9 11  2 15  6 10 12  3 13  1  4 14  8  7"
      ]
     },
     "metadata": {},
     "output_type": "display_data"
    }
   ],
   "source": [
    "dat\n",
    "\n",
    "#our data is called dat, but can be named anything (arbotrary name), we just need to be consistent "
   ]
  },
  {
   "cell_type": "code",
   "execution_count": 3,
   "id": "3da5f36c-b52a-4cd1-b3c1-a28786aea8d0",
   "metadata": {},
   "outputs": [],
   "source": [
    "mat1 <- matrix(dat, nrow = 5) \n",
    "\n",
    "# we say make nrow equal to 5; nrow is a "
   ]
  },
  {
   "cell_type": "code",
   "execution_count": 4,
   "id": "efa2394e-0e52-440f-aa27-766170c5269f",
   "metadata": {},
   "outputs": [
    {
     "data": {
      "text/html": [
       "<table class=\"dataframe\">\n",
       "<caption>A matrix: 5 × 3 of type int</caption>\n",
       "<tbody>\n",
       "\t<tr><td> 5</td><td> 6</td><td> 1</td></tr>\n",
       "\t<tr><td> 9</td><td>10</td><td> 4</td></tr>\n",
       "\t<tr><td>11</td><td>12</td><td>14</td></tr>\n",
       "\t<tr><td> 2</td><td> 3</td><td> 8</td></tr>\n",
       "\t<tr><td>15</td><td>13</td><td> 7</td></tr>\n",
       "</tbody>\n",
       "</table>\n"
      ],
      "text/latex": [
       "A matrix: 5 × 3 of type int\n",
       "\\begin{tabular}{lll}\n",
       "\t  5 &  6 &  1\\\\\n",
       "\t  9 & 10 &  4\\\\\n",
       "\t 11 & 12 & 14\\\\\n",
       "\t  2 &  3 &  8\\\\\n",
       "\t 15 & 13 &  7\\\\\n",
       "\\end{tabular}\n"
      ],
      "text/markdown": [
       "\n",
       "A matrix: 5 × 3 of type int\n",
       "\n",
       "|  5 |  6 |  1 |\n",
       "|  9 | 10 |  4 |\n",
       "| 11 | 12 | 14 |\n",
       "|  2 |  3 |  8 |\n",
       "| 15 | 13 |  7 |\n",
       "\n"
      ],
      "text/plain": [
       "     [,1] [,2] [,3]\n",
       "[1,]  5    6    1  \n",
       "[2,]  9   10    4  \n",
       "[3,] 11   12   14  \n",
       "[4,]  2    3    8  \n",
       "[5,] 15   13    7  "
      ]
     },
     "metadata": {},
     "output_type": "display_data"
    }
   ],
   "source": [
    "mat1"
   ]
  },
  {
   "cell_type": "code",
   "execution_count": 8,
   "id": "b6ce0930-a307-4d5a-bf97-763360b7a0cc",
   "metadata": {},
   "outputs": [],
   "source": [
    "keep_row <- mat1[, 3] > 5 #keep_row = factor of boolean values "
   ]
  },
  {
   "cell_type": "code",
   "execution_count": 9,
   "id": "cf43118a-3f66-4794-aba9-4819546becde",
   "metadata": {},
   "outputs": [
    {
     "data": {
      "text/html": [
       "<style>\n",
       ".list-inline {list-style: none; margin:0; padding: 0}\n",
       ".list-inline>li {display: inline-block}\n",
       ".list-inline>li:not(:last-child)::after {content: \"\\00b7\"; padding: 0 .5ex}\n",
       "</style>\n",
       "<ol class=list-inline><li>FALSE</li><li>FALSE</li><li>TRUE</li><li>TRUE</li><li>TRUE</li></ol>\n"
      ],
      "text/latex": [
       "\\begin{enumerate*}\n",
       "\\item FALSE\n",
       "\\item FALSE\n",
       "\\item TRUE\n",
       "\\item TRUE\n",
       "\\item TRUE\n",
       "\\end{enumerate*}\n"
      ],
      "text/markdown": [
       "1. FALSE\n",
       "2. FALSE\n",
       "3. TRUE\n",
       "4. TRUE\n",
       "5. TRUE\n",
       "\n",
       "\n"
      ],
      "text/plain": [
       "[1] FALSE FALSE  TRUE  TRUE  TRUE"
      ]
     },
     "metadata": {},
     "output_type": "display_data"
    }
   ],
   "source": [
    "keep_row"
   ]
  },
  {
   "cell_type": "code",
   "execution_count": 10,
   "id": "6af303b4-4fd7-416a-b182-ae9c7d384767",
   "metadata": {},
   "outputs": [],
   "source": [
    "mat2 <- mat1[keep_row,]"
   ]
  },
  {
   "cell_type": "code",
   "execution_count": 11,
   "id": "89f4e2ef-8310-401f-bffe-86bdef20e53b",
   "metadata": {},
   "outputs": [
    {
     "data": {
      "text/html": [
       "<table class=\"dataframe\">\n",
       "<caption>A matrix: 3 × 3 of type int</caption>\n",
       "<tbody>\n",
       "\t<tr><td>11</td><td>12</td><td>14</td></tr>\n",
       "\t<tr><td> 2</td><td> 3</td><td> 8</td></tr>\n",
       "\t<tr><td>15</td><td>13</td><td> 7</td></tr>\n",
       "</tbody>\n",
       "</table>\n"
      ],
      "text/latex": [
       "A matrix: 3 × 3 of type int\n",
       "\\begin{tabular}{lll}\n",
       "\t 11 & 12 & 14\\\\\n",
       "\t  2 &  3 &  8\\\\\n",
       "\t 15 & 13 &  7\\\\\n",
       "\\end{tabular}\n"
      ],
      "text/markdown": [
       "\n",
       "A matrix: 3 × 3 of type int\n",
       "\n",
       "| 11 | 12 | 14 |\n",
       "|  2 |  3 |  8 |\n",
       "| 15 | 13 |  7 |\n",
       "\n"
      ],
      "text/plain": [
       "     [,1] [,2] [,3]\n",
       "[1,] 11   12   14  \n",
       "[2,]  2    3    8  \n",
       "[3,] 15   13    7  "
      ]
     },
     "metadata": {},
     "output_type": "display_data"
    }
   ],
   "source": [
    "mat2"
   ]
  },
  {
   "cell_type": "code",
   "execution_count": null,
   "id": "44cc82ae-66fc-4fe1-a3c8-fb475e8c05a9",
   "metadata": {},
   "outputs": [],
   "source": []
  }
 ],
 "metadata": {
  "kernelspec": {
   "display_name": "R",
   "language": "R",
   "name": "ir"
  },
  "language_info": {
   "codemirror_mode": "r",
   "file_extension": ".r",
   "mimetype": "text/x-r-source",
   "name": "R",
   "pygments_lexer": "r",
   "version": "4.0.5"
  }
 },
 "nbformat": 4,
 "nbformat_minor": 5
}
