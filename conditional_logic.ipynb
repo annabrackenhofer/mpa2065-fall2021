{
 "cells": [
  {
   "cell_type": "markdown",
   "metadata": {
    "slideshow": {
     "slide_type": "slide"
    }
   },
   "source": [
    "<center><h1>Conditional Logic in R</h1></center>\n",
    "<center><h3>Paul Stey</h3></center>\n",
    "<center><h3>2021-09-27</h3></center>"
   ]
  },
  {
   "cell_type": "markdown",
   "metadata": {
    "slideshow": {
     "slide_type": "slide"
    }
   },
   "source": [
    "# 1. The `if` Statement\n",
    "\n",
    " - The `if` statement lets us execute code given that a condition is true. \n",
    " - Similar to many other languages and tools (e.g., Excel)"
   ]
  },
  {
   "cell_type": "code",
   "execution_count": 3,
   "metadata": {
    "slideshow": {
     "slide_type": "fragment"
    }
   },
   "outputs": [
    {
     "name": "stdout",
     "output_type": "stream",
     "text": [
      "[1] \"yep!!\"\n",
      "[1] 555\n"
     ]
    }
   ],
   "source": [
    "if (5 > 4) {\n",
    "    print(\"yep!!\")\n",
    "    x <- 555\n",
    "    print(x)\n",
    "}"
   ]
  },
  {
   "cell_type": "code",
   "execution_count": 6,
   "metadata": {
    "slideshow": {
     "slide_type": "fragment"
    }
   },
   "outputs": [
    {
     "name": "stdout",
     "output_type": "stream",
     "text": [
      "[1] \"Yes, this is a vector of length 3! Hooray!!\"\n"
     ]
    }
   ],
   "source": [
    "x <- c(\"foo\", \"bar\", \"baz\")\n",
    "\n",
    "if (length(x) == 3) {\n",
    "    print(\"Yes, this is a vector of length 3! Hooray!!\")\n",
    "}"
   ]
  },
  {
   "cell_type": "markdown",
   "metadata": {
    "slideshow": {
     "slide_type": "subslide"
    }
   },
   "source": [
    "## 1.1 When `if` \"fails\" "
   ]
  },
  {
   "cell_type": "code",
   "execution_count": 15,
   "metadata": {
    "slideshow": {
     "slide_type": "fragment"
    }
   },
   "outputs": [],
   "source": [
    "if (\"potato\" == \"fries\") {\n",
    "    print(\"you will never see this print\")      # this never gets executed\n",
    "}"
   ]
  },
  {
   "cell_type": "markdown",
   "metadata": {
    "slideshow": {
     "slide_type": "subslide"
    }
   },
   "source": [
    "## 1.2 Using `&&` to Test Multiple Conditions"
   ]
  },
  {
   "cell_type": "code",
   "execution_count": 20,
   "metadata": {
    "slideshow": {
     "slide_type": "fragment"
    }
   },
   "outputs": [
    {
     "name": "stdout",
     "output_type": "stream",
     "text": [
      "[1] 171\n"
     ]
    }
   ],
   "source": [
    "z <- 171\n",
    "\n",
    "if (z > 10 && z %% 2 != 0) {\n",
    "    print(z)\n",
    "}"
   ]
  },
  {
   "cell_type": "markdown",
   "metadata": {
    "slideshow": {
     "slide_type": "slide"
    }
   },
   "source": [
    "# 2. The `else` Statment\n",
    "  - `else` gives us a way to execute code when `if` block doesn't get executed"
   ]
  },
  {
   "cell_type": "code",
   "execution_count": 27,
   "metadata": {
    "slideshow": {
     "slide_type": "fragment"
    }
   },
   "outputs": [
    {
     "name": "stdout",
     "output_type": "stream",
     "text": [
      "[1] \"both are delicious\"\n",
      " [1] -0.63568802 -0.21427727 -1.74687300 -0.95059822  1.99409538 -0.42082172\n",
      " [7]  1.64076518  0.03722521  0.74022071  1.30693773\n"
     ]
    }
   ],
   "source": [
    "if (\"potato\" == \"fries\") {\n",
    "    print(\"you will never see this print\")      # this never gets executed\n",
    "} else {\n",
    "    print(\"both are delicious\")                 # this DOES get executec\n",
    "    v <- rnorm(10)\n",
    "    print(v)\n",
    "}       "
   ]
  },
  {
   "cell_type": "markdown",
   "metadata": {
    "slideshow": {
     "slide_type": "subslide"
    }
   },
   "source": [
    "## 2.1 Combining `else` and `if`\n",
    "  - We can use `else` and `if` together in sequence "
   ]
  },
  {
   "cell_type": "code",
   "execution_count": 31,
   "metadata": {
    "slideshow": {
     "slide_type": "fragment"
    }
   },
   "outputs": [
    {
     "name": "stdout",
     "output_type": "stream",
     "text": [
      "[1] \"jefferson\"\n"
     ]
    }
   ],
   "source": [
    "coin_value <- 5\n",
    "\n",
    "if (coin_value == 25) {\n",
    "    print(\"washington\")\n",
    "} else if (coin_value == 10) {\n",
    "    print(\"fdr\")\n",
    "} else if (coin_value == 5) {\n",
    "    print(\"jefferson\")\n",
    "} else {\n",
    "    print(\"lincoln\")\n",
    "}"
   ]
  },
  {
   "cell_type": "markdown",
   "metadata": {
    "slideshow": {
     "slide_type": "slide"
    }
   },
   "source": [
    "# 3. Using `if` and `else` in Functions\n",
    "\n",
    "  - Like most other language features, `if` and `else` can be used in fuctions"
   ]
  },
  {
   "cell_type": "code",
   "execution_count": 39,
   "metadata": {
    "slideshow": {
     "slide_type": "fragment"
    }
   },
   "outputs": [],
   "source": [
    "is_even <- function(n) {\n",
    "    \n",
    "    if (n %% 2 == 0) {       # Use `%%` to check if n/2 has remainder equal to 0\n",
    "        res <- TRUE \n",
    "    } else {\n",
    "        res <- FALSE \n",
    "    }\n",
    "    return(res)\n",
    "}"
   ]
  },
  {
   "cell_type": "code",
   "execution_count": 41,
   "metadata": {
    "slideshow": {
     "slide_type": "fragment"
    }
   },
   "outputs": [
    {
     "data": {
      "text/html": [
       "TRUE"
      ],
      "text/latex": [
       "TRUE"
      ],
      "text/markdown": [
       "TRUE"
      ],
      "text/plain": [
       "[1] TRUE"
      ]
     },
     "metadata": {},
     "output_type": "display_data"
    }
   ],
   "source": [
    "is_even(1234)                 # use our newly defined function"
   ]
  },
  {
   "cell_type": "markdown",
   "metadata": {
    "slideshow": {
     "slide_type": "subslide"
    }
   },
   "source": [
    "## 3.1 Nesting `if` Statements\n",
    " \n",
    " - We can also nest our `if` statments in other `if` statements"
   ]
  },
  {
   "cell_type": "code",
   "execution_count": 42,
   "metadata": {
    "slideshow": {
     "slide_type": "fragment"
    }
   },
   "outputs": [
    {
     "ename": "ERROR",
     "evalue": "Error in n%%2: non-numeric argument to binary operator\n",
     "output_type": "error",
     "traceback": [
      "Error in n%%2: non-numeric argument to binary operator\nTraceback:\n",
      "1. is_even(\"potato\")"
     ]
    }
   ],
   "source": [
    "is_even(\"potato\")           # is the string \"potato\" even? "
   ]
  },
  {
   "cell_type": "markdown",
   "metadata": {
    "slideshow": {
     "slide_type": "subslide"
    }
   },
   "source": [
    "### 3.1.1 Solve \"Potato Problem\"\n",
    " - Recal our original `is_even()` function"
   ]
  },
  {
   "cell_type": "code",
   "execution_count": 43,
   "metadata": {
    "slideshow": {
     "slide_type": "fragment"
    }
   },
   "outputs": [],
   "source": [
    "is_even <- function(n) {\n",
    "    \n",
    "    if (is.numeric(n)) {\n",
    "        if (n %% 2 == 0) {       # Use `%%` to check if n/2 has remainder equal to 0\n",
    "            res <- TRUE \n",
    "        } else {\n",
    "            res <- FALSE \n",
    "        }\n",
    "    } else {\n",
    "        res <- \"Are you sure n is numeric?\"\n",
    "    }\n",
    "    return(res)\n",
    "}"
   ]
  },
  {
   "cell_type": "code",
   "execution_count": 44,
   "metadata": {
    "slideshow": {
     "slide_type": "fragment"
    }
   },
   "outputs": [
    {
     "data": {
      "text/html": [
       "'Are you sure n is numeric?'"
      ],
      "text/latex": [
       "'Are you sure n is numeric?'"
      ],
      "text/markdown": [
       "'Are you sure n is numeric?'"
      ],
      "text/plain": [
       "[1] \"Are you sure n is numeric?\""
      ]
     },
     "metadata": {},
     "output_type": "display_data"
    }
   ],
   "source": [
    "is_even(\"potato soup\")"
   ]
  },
  {
   "cell_type": "markdown",
   "metadata": {
    "slideshow": {
     "slide_type": "slide"
    }
   },
   "source": [
    "<center><h1>Challenge Problems</h1></center>"
   ]
  },
  {
   "cell_type": "markdown",
   "metadata": {
    "slideshow": {
     "slide_type": "-"
    }
   },
   "source": [
    "## Question 1\n",
    "Use the ```sample()``` function to create a vector of 15 integers. Use this to create a 5-by-3 matrix (i.e., 5 rows, 3 columns). Call this matrix ```mat1```. \n",
    "\n",
    "Now, use boolean indexing to create a matrix ```mat2``` that includes only the rows from ```mat1``` that have a value greater than ```5``` in column 3. As a hint for this portion, recall that we can create a vector of booleans using ```mat1[, 3] > 5```.\n",
    "\n"
   ]
  },
  {
   "cell_type": "markdown",
   "metadata": {
    "slideshow": {
     "slide_type": "-"
    }
   },
   "source": [
    "## Question 2\n",
    "Write a function that calculates the hypotenuse of a right triangle. Let's call the function ```hypot()```. Recall that the formula for the hypotenuse of a right triangle is $\\sqrt{a^{2} + b^{2}}$, where $a$ and $b$ are the legs of the triangle.\n"
   ]
  }
 ],
 "metadata": {
  "@webio": {
   "lastCommId": null,
   "lastKernelId": null
  },
  "celltoolbar": "Slideshow",
  "kernelspec": {
   "display_name": "R",
   "language": "R",
   "name": "ir"
  },
  "language_info": {
   "codemirror_mode": "r",
   "file_extension": ".r",
   "mimetype": "text/x-r-source",
   "name": "R",
   "pygments_lexer": "r",
   "version": "4.0.2"
  }
 },
 "nbformat": 4,
 "nbformat_minor": 2
}
