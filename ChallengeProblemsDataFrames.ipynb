{
 "cells": [
  {
   "cell_type": "code",
   "execution_count": 20,
   "id": "31736361-d029-43c2-b611-13e85633bf49",
   "metadata": {},
   "outputs": [],
   "source": [
    "#Question 1.\n",
    "\n",
    "#Create a data.frame object called state_df with two columns, \n",
    "#one called state and one called population. Each columns should have five elements. \n",
    "#For the state column, select the abbreviations for five US states. \n",
    "#For the population column, use the sample() function to create \"populations\" at random from the range 1 to 1000000.\n",
    "\n",
    "#Question 2.\n",
    "\n",
    "#Add a third column to the state_df dataframe called size. \n",
    "#In particular, use boolean indexing to assign elements of \n",
    "#the third column to be \"large\" if that row's population value is larger than or equal to 500000, and be \"small\" if the row's \n",
    "#population is less than 500000."
   ]
  },
  {
   "cell_type": "code",
   "execution_count": 3,
   "id": "ccc6bc8c-0490-4eeb-9aaa-07ed586f1d28",
   "metadata": {
    "jupyter": {
     "source_hidden": true
    },
    "tags": []
   },
   "outputs": [
    {
     "data": {
      "text/html": [
       "<table class=\"dataframe\">\n",
       "<caption>A data.frame: 4 × 4</caption>\n",
       "<thead>\n",
       "\t<tr><th scope=col>idx</th><th scope=col>firstname</th><th scope=col>score</th><th scope=col>vocals</th></tr>\n",
       "\t<tr><th scope=col>&lt;int&gt;</th><th scope=col>&lt;chr&gt;</th><th scope=col>&lt;dbl&gt;</th><th scope=col>&lt;lgl&gt;</th></tr>\n",
       "</thead>\n",
       "<tbody>\n",
       "\t<tr><td>1</td><td>john  </td><td> 0.4901598</td><td> TRUE</td></tr>\n",
       "\t<tr><td>2</td><td>paul  </td><td>-1.0371305</td><td> TRUE</td></tr>\n",
       "\t<tr><td>3</td><td>george</td><td> 0.9620415</td><td>FALSE</td></tr>\n",
       "\t<tr><td>4</td><td>ringo </td><td> 0.6153963</td><td>FALSE</td></tr>\n",
       "</tbody>\n",
       "</table>\n"
      ],
      "text/latex": [
       "A data.frame: 4 × 4\n",
       "\\begin{tabular}{llll}\n",
       " idx & firstname & score & vocals\\\\\n",
       " <int> & <chr> & <dbl> & <lgl>\\\\\n",
       "\\hline\n",
       "\t 1 & john   &  0.4901598 &  TRUE\\\\\n",
       "\t 2 & paul   & -1.0371305 &  TRUE\\\\\n",
       "\t 3 & george &  0.9620415 & FALSE\\\\\n",
       "\t 4 & ringo  &  0.6153963 & FALSE\\\\\n",
       "\\end{tabular}\n"
      ],
      "text/markdown": [
       "\n",
       "A data.frame: 4 × 4\n",
       "\n",
       "| idx &lt;int&gt; | firstname &lt;chr&gt; | score &lt;dbl&gt; | vocals &lt;lgl&gt; |\n",
       "|---|---|---|---|\n",
       "| 1 | john   |  0.4901598 |  TRUE |\n",
       "| 2 | paul   | -1.0371305 |  TRUE |\n",
       "| 3 | george |  0.9620415 | FALSE |\n",
       "| 4 | ringo  |  0.6153963 | FALSE |\n",
       "\n"
      ],
      "text/plain": [
       "  idx firstname score      vocals\n",
       "1 1   john       0.4901598  TRUE \n",
       "2 2   paul      -1.0371305  TRUE \n",
       "3 3   george     0.9620415 FALSE \n",
       "4 4   ringo      0.6153963 FALSE "
      ]
     },
     "metadata": {},
     "output_type": "display_data"
    }
   ],
   "source": [
    "idx <- 1:4\n",
    "score <- rnorm(4)\n",
    "vocals <- c(TRUE, TRUE, FALSE, FALSE)\n",
    "firstname <- c(\"john\", \"paul\", \"george\", \"ringo\")\n",
    "\n",
    "dat <- data.frame(idx, firstname, score, vocals)\n",
    "\n",
    "dat\n",
    "\n"
   ]
  },
  {
   "cell_type": "code",
   "execution_count": 53,
   "id": "591c1b0d-407d-4120-8682-bb2db5df8448",
   "metadata": {},
   "outputs": [
    {
     "data": {
      "text/html": [
       "<table class=\"dataframe\">\n",
       "<caption>A data.frame: 5 × 2</caption>\n",
       "<thead>\n",
       "\t<tr><th scope=col>population</th><th scope=col>states</th></tr>\n",
       "\t<tr><th scope=col>&lt;int&gt;</th><th scope=col>&lt;chr&gt;</th></tr>\n",
       "</thead>\n",
       "<tbody>\n",
       "\t<tr><td>25044</td><td>RI</td></tr>\n",
       "\t<tr><td>50577</td><td>NY</td></tr>\n",
       "\t<tr><td>16625</td><td>AZ</td></tr>\n",
       "\t<tr><td>26955</td><td>MA</td></tr>\n",
       "\t<tr><td>83055</td><td>AL</td></tr>\n",
       "</tbody>\n",
       "</table>\n"
      ],
      "text/latex": [
       "A data.frame: 5 × 2\n",
       "\\begin{tabular}{ll}\n",
       " population & states\\\\\n",
       " <int> & <chr>\\\\\n",
       "\\hline\n",
       "\t 25044 & RI\\\\\n",
       "\t 50577 & NY\\\\\n",
       "\t 16625 & AZ\\\\\n",
       "\t 26955 & MA\\\\\n",
       "\t 83055 & AL\\\\\n",
       "\\end{tabular}\n"
      ],
      "text/markdown": [
       "\n",
       "A data.frame: 5 × 2\n",
       "\n",
       "| population &lt;int&gt; | states &lt;chr&gt; |\n",
       "|---|---|\n",
       "| 25044 | RI |\n",
       "| 50577 | NY |\n",
       "| 16625 | AZ |\n",
       "| 26955 | MA |\n",
       "| 83055 | AL |\n",
       "\n"
      ],
      "text/plain": [
       "  population states\n",
       "1 25044      RI    \n",
       "2 50577      NY    \n",
       "3 16625      AZ    \n",
       "4 26955      MA    \n",
       "5 83055      AL    "
      ]
     },
     "metadata": {},
     "output_type": "display_data"
    }
   ],
   "source": [
    "state_df <- 1:5 #could even leave this out here\n",
    "states <- c(\"RI\", \"NY\", \"AZ\", \"MA\",\"AL\") #start with creating a vector\n",
    "population <- sample(1:100000,5) #want to take 5 draws from that range => define range first \n",
    "\n",
    "state_df <- data.frame(population, states) #first create the vetors, then combine it to a dataframe (aka table) \n",
    "\n",
    "state_df\n"
   ]
  },
  {
   "cell_type": "code",
   "execution_count": 54,
   "id": "cbca57ba-3e33-4c27-a17e-d75d977102c3",
   "metadata": {},
   "outputs": [
    {
     "data": {
      "text/html": [
       "<table class=\"dataframe\">\n",
       "<caption>A data.frame: 5 × 2</caption>\n",
       "<thead>\n",
       "\t<tr><th scope=col>population</th><th scope=col>states</th></tr>\n",
       "\t<tr><th scope=col>&lt;int&gt;</th><th scope=col>&lt;chr&gt;</th></tr>\n",
       "</thead>\n",
       "<tbody>\n",
       "\t<tr><td>25044</td><td>RI</td></tr>\n",
       "\t<tr><td>50577</td><td>NY</td></tr>\n",
       "\t<tr><td>16625</td><td>AZ</td></tr>\n",
       "\t<tr><td>26955</td><td>MA</td></tr>\n",
       "\t<tr><td>83055</td><td>AL</td></tr>\n",
       "</tbody>\n",
       "</table>\n"
      ],
      "text/latex": [
       "A data.frame: 5 × 2\n",
       "\\begin{tabular}{ll}\n",
       " population & states\\\\\n",
       " <int> & <chr>\\\\\n",
       "\\hline\n",
       "\t 25044 & RI\\\\\n",
       "\t 50577 & NY\\\\\n",
       "\t 16625 & AZ\\\\\n",
       "\t 26955 & MA\\\\\n",
       "\t 83055 & AL\\\\\n",
       "\\end{tabular}\n"
      ],
      "text/markdown": [
       "\n",
       "A data.frame: 5 × 2\n",
       "\n",
       "| population &lt;int&gt; | states &lt;chr&gt; |\n",
       "|---|---|\n",
       "| 25044 | RI |\n",
       "| 50577 | NY |\n",
       "| 16625 | AZ |\n",
       "| 26955 | MA |\n",
       "| 83055 | AL |\n",
       "\n"
      ],
      "text/plain": [
       "  population states\n",
       "1 25044      RI    \n",
       "2 50577      NY    \n",
       "3 16625      AZ    \n",
       "4 26955      MA    \n",
       "5 83055      AL    "
      ]
     },
     "metadata": {},
     "output_type": "display_data"
    }
   ],
   "source": [
    "\n",
    "\n",
    "state_df\n",
    "\n",
    "#Question 2\n",
    "#do two steps\n",
    "\n",
    "state_df$size <- rep(\"large\", 5)"
   ]
  },
  {
   "cell_type": "code",
   "execution_count": 66,
   "id": "08d1a7f7-7207-443c-ac73-0cfbd4186743",
   "metadata": {},
   "outputs": [],
   "source": [
    "is_small <- state_df$population < 500000\n",
    "\n",
    "state_df[is_small, \"size\"] <- \"small\""
   ]
  },
  {
   "cell_type": "code",
   "execution_count": 67,
   "id": "54f93494-fc02-4cb5-af34-1b869ed132b2",
   "metadata": {},
   "outputs": [
    {
     "data": {
      "text/html": [
       "<table class=\"dataframe\">\n",
       "<caption>A data.frame: 5 × 4</caption>\n",
       "<thead>\n",
       "\t<tr><th scope=col>population</th><th scope=col>states</th><th scope=col>size</th><th scope=col>size4</th></tr>\n",
       "\t<tr><th scope=col>&lt;int&gt;</th><th scope=col>&lt;chr&gt;</th><th scope=col>&lt;chr&gt;</th><th scope=col>&lt;chr&gt;</th></tr>\n",
       "</thead>\n",
       "<tbody>\n",
       "\t<tr><td>25044</td><td>RI</td><td>small</td><td>small</td></tr>\n",
       "\t<tr><td>50577</td><td>NY</td><td>small</td><td>large</td></tr>\n",
       "\t<tr><td>16625</td><td>AZ</td><td>small</td><td>small</td></tr>\n",
       "\t<tr><td>26955</td><td>MA</td><td>small</td><td>small</td></tr>\n",
       "\t<tr><td>83055</td><td>AL</td><td>small</td><td>large</td></tr>\n",
       "</tbody>\n",
       "</table>\n"
      ],
      "text/latex": [
       "A data.frame: 5 × 4\n",
       "\\begin{tabular}{llll}\n",
       " population & states & size & size4\\\\\n",
       " <int> & <chr> & <chr> & <chr>\\\\\n",
       "\\hline\n",
       "\t 25044 & RI & small & small\\\\\n",
       "\t 50577 & NY & small & large\\\\\n",
       "\t 16625 & AZ & small & small\\\\\n",
       "\t 26955 & MA & small & small\\\\\n",
       "\t 83055 & AL & small & large\\\\\n",
       "\\end{tabular}\n"
      ],
      "text/markdown": [
       "\n",
       "A data.frame: 5 × 4\n",
       "\n",
       "| population &lt;int&gt; | states &lt;chr&gt; | size &lt;chr&gt; | size4 &lt;chr&gt; |\n",
       "|---|---|---|---|\n",
       "| 25044 | RI | small | small |\n",
       "| 50577 | NY | small | large |\n",
       "| 16625 | AZ | small | small |\n",
       "| 26955 | MA | small | small |\n",
       "| 83055 | AL | small | large |\n",
       "\n"
      ],
      "text/plain": [
       "  population states size  size4\n",
       "1 25044      RI     small small\n",
       "2 50577      NY     small large\n",
       "3 16625      AZ     small small\n",
       "4 26955      MA     small small\n",
       "5 83055      AL     small large"
      ]
     },
     "metadata": {},
     "output_type": "display_data"
    }
   ],
   "source": [
    "state_df"
   ]
  },
  {
   "cell_type": "code",
   "execution_count": 68,
   "id": "d02b754f-fe36-4c84-b41e-68bb8fea6d8e",
   "metadata": {},
   "outputs": [
    {
     "data": {
      "text/html": [
       "<style>\n",
       ".list-inline {list-style: none; margin:0; padding: 0}\n",
       ".list-inline>li {display: inline-block}\n",
       ".list-inline>li:not(:last-child)::after {content: \"\\00b7\"; padding: 0 .5ex}\n",
       "</style>\n",
       "<ol class=list-inline><li>'small'</li><li>'false'</li><li>'small'</li><li>'small'</li><li>'false'</li></ol>\n"
      ],
      "text/latex": [
       "\\begin{enumerate*}\n",
       "\\item 'small'\n",
       "\\item 'false'\n",
       "\\item 'small'\n",
       "\\item 'small'\n",
       "\\item 'false'\n",
       "\\end{enumerate*}\n"
      ],
      "text/markdown": [
       "1. 'small'\n",
       "2. 'false'\n",
       "3. 'small'\n",
       "4. 'small'\n",
       "5. 'false'\n",
       "\n",
       "\n"
      ],
      "text/plain": [
       "[1] \"small\" \"false\" \"small\" \"small\" \"false\""
      ]
     },
     "metadata": {},
     "output_type": "display_data"
    },
    {
     "data": {
      "text/html": [
       "<table class=\"dataframe\">\n",
       "<caption>A data.frame: 5 × 4</caption>\n",
       "<thead>\n",
       "\t<tr><th scope=col>population</th><th scope=col>states</th><th scope=col>size</th><th scope=col>size4</th></tr>\n",
       "\t<tr><th scope=col>&lt;int&gt;</th><th scope=col>&lt;chr&gt;</th><th scope=col>&lt;chr&gt;</th><th scope=col>&lt;chr&gt;</th></tr>\n",
       "</thead>\n",
       "<tbody>\n",
       "\t<tr><td>25044</td><td>RI</td><td>small</td><td>small</td></tr>\n",
       "\t<tr><td>50577</td><td>NY</td><td>small</td><td>large</td></tr>\n",
       "\t<tr><td>16625</td><td>AZ</td><td>small</td><td>small</td></tr>\n",
       "\t<tr><td>26955</td><td>MA</td><td>small</td><td>small</td></tr>\n",
       "\t<tr><td>83055</td><td>AL</td><td>small</td><td>large</td></tr>\n",
       "</tbody>\n",
       "</table>\n"
      ],
      "text/latex": [
       "A data.frame: 5 × 4\n",
       "\\begin{tabular}{llll}\n",
       " population & states & size & size4\\\\\n",
       " <int> & <chr> & <chr> & <chr>\\\\\n",
       "\\hline\n",
       "\t 25044 & RI & small & small\\\\\n",
       "\t 50577 & NY & small & large\\\\\n",
       "\t 16625 & AZ & small & small\\\\\n",
       "\t 26955 & MA & small & small\\\\\n",
       "\t 83055 & AL & small & large\\\\\n",
       "\\end{tabular}\n"
      ],
      "text/markdown": [
       "\n",
       "A data.frame: 5 × 4\n",
       "\n",
       "| population &lt;int&gt; | states &lt;chr&gt; | size &lt;chr&gt; | size4 &lt;chr&gt; |\n",
       "|---|---|---|---|\n",
       "| 25044 | RI | small | small |\n",
       "| 50577 | NY | small | large |\n",
       "| 16625 | AZ | small | small |\n",
       "| 26955 | MA | small | small |\n",
       "| 83055 | AL | small | large |\n",
       "\n"
      ],
      "text/plain": [
       "  population states size  size4\n",
       "1 25044      RI     small small\n",
       "2 50577      NY     small large\n",
       "3 16625      AZ     small small\n",
       "4 26955      MA     small small\n",
       "5 83055      AL     small large"
      ]
     },
     "metadata": {},
     "output_type": "display_data"
    }
   ],
   "source": [
    "#method 2\n",
    "ifelse(state_df$population < 50000, \"small\", \"false\") \n",
    "\n",
    "state_df"
   ]
  },
  {
   "cell_type": "code",
   "execution_count": 69,
   "id": "7da04f76-d9dc-4445-a0e0-ee96023c4933",
   "metadata": {},
   "outputs": [
    {
     "ename": "ERROR",
     "evalue": "Error in parse(text = x, srcfile = src): <text>:12:0: unexpected end of input\n10:         }\n11:     \n   ^\n",
     "output_type": "error",
     "traceback": [
      "Error in parse(text = x, srcfile = src): <text>:12:0: unexpected end of input\n10:         }\n11:     \n   ^\nTraceback:\n"
     ]
    }
   ],
   "source": [
    "#method 3\n",
    "size3 <- c() \n",
    "\n",
    "for (i in state_df$population) {\n",
    "    if (i < 500000) {\n",
    "        size3 <- c(size3, \"small\")\n",
    "        }\n",
    "    else {\n",
    "        size3 <- c(size3, \"large\")\n",
    "        }\n",
    "    "
   ]
  },
  {
   "cell_type": "code",
   "execution_count": 70,
   "id": "d68a442b-a0a4-4066-9398-05130ab811da",
   "metadata": {},
   "outputs": [
    {
     "data": {
      "text/html": [
       "<table class=\"dataframe\">\n",
       "<caption>A data.frame: 5 × 4</caption>\n",
       "<thead>\n",
       "\t<tr><th scope=col>population</th><th scope=col>states</th><th scope=col>size</th><th scope=col>size4</th></tr>\n",
       "\t<tr><th scope=col>&lt;int&gt;</th><th scope=col>&lt;chr&gt;</th><th scope=col>&lt;chr&gt;</th><th scope=col>&lt;chr&gt;</th></tr>\n",
       "</thead>\n",
       "<tbody>\n",
       "\t<tr><td>25044</td><td>RI</td><td>small</td><td>small</td></tr>\n",
       "\t<tr><td>50577</td><td>NY</td><td>small</td><td>large</td></tr>\n",
       "\t<tr><td>16625</td><td>AZ</td><td>small</td><td>small</td></tr>\n",
       "\t<tr><td>26955</td><td>MA</td><td>small</td><td>small</td></tr>\n",
       "\t<tr><td>83055</td><td>AL</td><td>small</td><td>large</td></tr>\n",
       "</tbody>\n",
       "</table>\n"
      ],
      "text/latex": [
       "A data.frame: 5 × 4\n",
       "\\begin{tabular}{llll}\n",
       " population & states & size & size4\\\\\n",
       " <int> & <chr> & <chr> & <chr>\\\\\n",
       "\\hline\n",
       "\t 25044 & RI & small & small\\\\\n",
       "\t 50577 & NY & small & large\\\\\n",
       "\t 16625 & AZ & small & small\\\\\n",
       "\t 26955 & MA & small & small\\\\\n",
       "\t 83055 & AL & small & large\\\\\n",
       "\\end{tabular}\n"
      ],
      "text/markdown": [
       "\n",
       "A data.frame: 5 × 4\n",
       "\n",
       "| population &lt;int&gt; | states &lt;chr&gt; | size &lt;chr&gt; | size4 &lt;chr&gt; |\n",
       "|---|---|---|---|\n",
       "| 25044 | RI | small | small |\n",
       "| 50577 | NY | small | large |\n",
       "| 16625 | AZ | small | small |\n",
       "| 26955 | MA | small | small |\n",
       "| 83055 | AL | small | large |\n",
       "\n"
      ],
      "text/plain": [
       "  population states size  size4\n",
       "1 25044      RI     small small\n",
       "2 50577      NY     small large\n",
       "3 16625      AZ     small small\n",
       "4 26955      MA     small small\n",
       "5 83055      AL     small large"
      ]
     },
     "metadata": {},
     "output_type": "display_data"
    }
   ],
   "source": [
    "state_df"
   ]
  },
  {
   "cell_type": "code",
   "execution_count": 75,
   "id": "9b839280-ed22-436c-b609-6f1e31704f8a",
   "metadata": {},
   "outputs": [],
   "source": [
    "#ISSUE\n",
    "state_df$size[state_df$population < 50000] <- \"small\"\n",
    "state_df$size[state_df$population >= 50000] <- \"large\""
   ]
  },
  {
   "cell_type": "code",
   "execution_count": 77,
   "id": "5b2dfb23-2676-4f2a-9f7d-85361193c674",
   "metadata": {},
   "outputs": [],
   "source": [
    "state_df$size4 <- NULL"
   ]
  },
  {
   "cell_type": "code",
   "execution_count": 78,
   "id": "b289ddf4-87d1-471d-8cf6-cd9627d301a6",
   "metadata": {},
   "outputs": [
    {
     "data": {
      "text/html": [
       "<table class=\"dataframe\">\n",
       "<caption>A data.frame: 5 × 3</caption>\n",
       "<thead>\n",
       "\t<tr><th scope=col>population</th><th scope=col>states</th><th scope=col>size</th></tr>\n",
       "\t<tr><th scope=col>&lt;int&gt;</th><th scope=col>&lt;chr&gt;</th><th scope=col>&lt;chr&gt;</th></tr>\n",
       "</thead>\n",
       "<tbody>\n",
       "\t<tr><td>25044</td><td>RI</td><td>small</td></tr>\n",
       "\t<tr><td>50577</td><td>NY</td><td>large</td></tr>\n",
       "\t<tr><td>16625</td><td>AZ</td><td>small</td></tr>\n",
       "\t<tr><td>26955</td><td>MA</td><td>small</td></tr>\n",
       "\t<tr><td>83055</td><td>AL</td><td>large</td></tr>\n",
       "</tbody>\n",
       "</table>\n"
      ],
      "text/latex": [
       "A data.frame: 5 × 3\n",
       "\\begin{tabular}{lll}\n",
       " population & states & size\\\\\n",
       " <int> & <chr> & <chr>\\\\\n",
       "\\hline\n",
       "\t 25044 & RI & small\\\\\n",
       "\t 50577 & NY & large\\\\\n",
       "\t 16625 & AZ & small\\\\\n",
       "\t 26955 & MA & small\\\\\n",
       "\t 83055 & AL & large\\\\\n",
       "\\end{tabular}\n"
      ],
      "text/markdown": [
       "\n",
       "A data.frame: 5 × 3\n",
       "\n",
       "| population &lt;int&gt; | states &lt;chr&gt; | size &lt;chr&gt; |\n",
       "|---|---|---|\n",
       "| 25044 | RI | small |\n",
       "| 50577 | NY | large |\n",
       "| 16625 | AZ | small |\n",
       "| 26955 | MA | small |\n",
       "| 83055 | AL | large |\n",
       "\n"
      ],
      "text/plain": [
       "  population states size \n",
       "1 25044      RI     small\n",
       "2 50577      NY     large\n",
       "3 16625      AZ     small\n",
       "4 26955      MA     small\n",
       "5 83055      AL     large"
      ]
     },
     "metadata": {},
     "output_type": "display_data"
    }
   ],
   "source": [
    "state_df"
   ]
  },
  {
   "cell_type": "code",
   "execution_count": null,
   "id": "176d0d41-a7a2-4f91-ae42-8a38d63151d8",
   "metadata": {},
   "outputs": [],
   "source": []
  }
 ],
 "metadata": {
  "kernelspec": {
   "display_name": "R",
   "language": "R",
   "name": "ir"
  },
  "language_info": {
   "codemirror_mode": "r",
   "file_extension": ".r",
   "mimetype": "text/x-r-source",
   "name": "R",
   "pygments_lexer": "r",
   "version": "4.0.5"
  }
 },
 "nbformat": 4,
 "nbformat_minor": 5
}
