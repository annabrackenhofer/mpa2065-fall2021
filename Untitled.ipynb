{
 "cells": [
  {
   "cell_type": "code",
   "execution_count": 8,
   "id": "ef306e74-177a-4519-8877-ecb875497e19",
   "metadata": {},
   "outputs": [
    {
     "data": {
      "text/html": [
       "<style>\n",
       ".list-inline {list-style: none; margin:0; padding: 0}\n",
       ".list-inline>li {display: inline-block}\n",
       ".list-inline>li:not(:last-child)::after {content: \"\\00b7\"; padding: 0 .5ex}\n",
       "</style>\n",
       "<ol class=list-inline><li>12</li><li>9</li><li>8</li><li>6</li><li>3</li><li>5</li><li>7</li><li>4</li><li>2</li><li>1</li><li>10</li><li>13</li><li>15</li><li>14</li><li>11</li></ol>\n"
      ],
      "text/latex": [
       "\\begin{enumerate*}\n",
       "\\item 12\n",
       "\\item 9\n",
       "\\item 8\n",
       "\\item 6\n",
       "\\item 3\n",
       "\\item 5\n",
       "\\item 7\n",
       "\\item 4\n",
       "\\item 2\n",
       "\\item 1\n",
       "\\item 10\n",
       "\\item 13\n",
       "\\item 15\n",
       "\\item 14\n",
       "\\item 11\n",
       "\\end{enumerate*}\n"
      ],
      "text/markdown": [
       "1. 12\n",
       "2. 9\n",
       "3. 8\n",
       "4. 6\n",
       "5. 3\n",
       "6. 5\n",
       "7. 7\n",
       "8. 4\n",
       "9. 2\n",
       "10. 1\n",
       "11. 10\n",
       "12. 13\n",
       "13. 15\n",
       "14. 14\n",
       "15. 11\n",
       "\n",
       "\n"
      ],
      "text/plain": [
       " [1] 12  9  8  6  3  5  7  4  2  1 10 13 15 14 11"
      ]
     },
     "metadata": {},
     "output_type": "display_data"
    },
    {
     "name": "stdout",
     "output_type": "stream",
     "text": [
      "     [,1] [,2] [,3]\n",
      "[1,]    1    6   11\n",
      "[2,]    2    7   12\n",
      "[3,]    3    8   13\n",
      "[4,]    4    9   14\n",
      "[5,]    5   10   15\n"
     ]
    }
   ],
   "source": [
    "\n",
    "sample(15)\n",
    "\n",
    "mat1 <- sample(15) \n",
    "dat <- 1:15\n",
    "mat1 <- matrix(dat,nrow=5)\n",
    "print(mat1)"
   ]
  },
  {
   "cell_type": "code",
   "execution_count": 14,
   "id": "2d66e530-1dad-453e-b268-26186e3c9f8e",
   "metadata": {},
   "outputs": [
    {
     "data": {
      "text/html": [
       "<style>\n",
       ".list-inline {list-style: none; margin:0; padding: 0}\n",
       ".list-inline>li {display: inline-block}\n",
       ".list-inline>li:not(:last-child)::after {content: \"\\00b7\"; padding: 0 .5ex}\n",
       "</style>\n",
       "<ol class=list-inline><li>TRUE</li><li>TRUE</li><li>TRUE</li><li>TRUE</li><li>TRUE</li></ol>\n"
      ],
      "text/latex": [
       "\\begin{enumerate*}\n",
       "\\item TRUE\n",
       "\\item TRUE\n",
       "\\item TRUE\n",
       "\\item TRUE\n",
       "\\item TRUE\n",
       "\\end{enumerate*}\n"
      ],
      "text/markdown": [
       "1. TRUE\n",
       "2. TRUE\n",
       "3. TRUE\n",
       "4. TRUE\n",
       "5. TRUE\n",
       "\n",
       "\n"
      ],
      "text/plain": [
       "[1] TRUE TRUE TRUE TRUE TRUE"
      ]
     },
     "metadata": {},
     "output_type": "display_data"
    },
    {
     "name": "stdout",
     "output_type": "stream",
     "text": [
      "     [,1] [,2] [,3]\n",
      "[1,]    1    6   11\n",
      "[2,]    2    7   12\n",
      "[3,]    3    8   13\n",
      "[4,]    4    9   14\n",
      "[5,]    5   10   15\n"
     ]
    }
   ],
   "source": [
    "mat1[, 3] > 5\n",
    "print(mat1)"
   ]
  },
  {
   "cell_type": "code",
   "execution_count": 20,
   "id": "996074ea-f18f-45bf-a0dc-998c4625fd51",
   "metadata": {},
   "outputs": [
    {
     "name": "stdout",
     "output_type": "stream",
     "text": [
      "[1] TRUE TRUE TRUE TRUE TRUE\n"
     ]
    }
   ],
   "source": [
    "mat2 = mat1[, 3] > 5\n",
    "print(mat2)"
   ]
  },
  {
   "cell_type": "code",
   "execution_count": 21,
   "id": "64d3dc1b-560b-4397-82dd-7aef5de54e67",
   "metadata": {},
   "outputs": [
    {
     "name": "stdout",
     "output_type": "stream",
     "text": [
      "[1] TRUE TRUE TRUE TRUE TRUE\n"
     ]
    }
   ],
   "source": [
    "mat2 <- mat1[, 3] > 5\n",
    "print(mat2)"
   ]
  },
  {
   "cell_type": "code",
   "execution_count": null,
   "id": "00553c3d-6d7e-46cf-8362-f519da0d523b",
   "metadata": {},
   "outputs": [],
   "source": [
    "a <- \n",
    "b <- \n",
    "\n",
    "hypot(a,b)"
   ]
  }
 ],
 "metadata": {
  "kernelspec": {
   "display_name": "R",
   "language": "R",
   "name": "ir"
  },
  "language_info": {
   "codemirror_mode": "r",
   "file_extension": ".r",
   "mimetype": "text/x-r-source",
   "name": "R",
   "pygments_lexer": "r",
   "version": "4.0.5"
  }
 },
 "nbformat": 4,
 "nbformat_minor": 5
}
